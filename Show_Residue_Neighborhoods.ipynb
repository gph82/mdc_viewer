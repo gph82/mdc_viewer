{
 "cells": [
  {
   "cell_type": "markdown",
   "metadata": {},
   "source": [
    "# INSPECT RESIDUE NEIGHBORS INTERACTIVELY\n",
    " \n",
    "1. **Start**: Press the \">| Run\" button above, the data and the GUI will load\n",
    "   * Takes some time to load, but only initially\n",
    "\n",
    " \n",
    "2. **Residue Selection**: Expressions like \"R131,L393-L394\" are allowed\n",
    "   * Hit *preview* to see what your selection finds\n",
    " \n",
    " \n",
    "3. **Plot options**: Fine tuning. Can be ignored in the first run and used afterwards.\n",
    "   * The plots will update automatically when you the change then.\n",
    " \n",
    " \n",
    "4. **Output**: Hit the green button and bar-plots representing the residue neighborhoods will appear. \n",
    "    * Control the distance cutoff of the neighborhood with the slider bar\n",
    "    \n",
    "5. Hoover with your mouse over the options to find out more\n",
    " \n",
    " \n",
    "Please bear in mind this is experimental"
   ]
  },
  {
   "cell_type": "code",
   "execution_count": 1,
   "metadata": {
    "scrolled": false
   },
   "outputs": [
    {
     "data": {
      "application/vnd.jupyter.widget-view+json": {
       "model_id": "e85b6eb9c6604d92998a6a80329a6827",
       "version_major": 2,
       "version_minor": 0
      },
      "text/plain": [
       "HBox(children=(FloatProgress(value=0.0, description='loading data', max=2.0, style=ProgressStyle(description_w…"
      ]
     },
     "metadata": {},
     "output_type": "display_data"
    },
    {
     "name": "stdout",
     "output_type": "stream",
     "text": [
      "\n"
     ]
    },
    {
     "data": {
      "application/vnd.jupyter.widget-view+json": {
       "model_id": "82da73abb8ea42aab471572183182afc",
       "version_major": 2,
       "version_minor": 0
      },
      "text/plain": [
       "VBox(children=(Accordion(children=(VBox(children=(HBox(children=(Text(value='R131,GDP', continuous_update=Fals…"
      ]
     },
     "metadata": {},
     "output_type": "display_data"
    }
   ],
   "source": [
    "from mdcv import show\n",
    "show()"
   ]
  }
 ],
 "metadata": {
  "kernelspec": {
   "display_name": "Python 3",
   "language": "python",
   "name": "python3"
  },
  "language_info": {
   "codemirror_mode": {
    "name": "ipython",
    "version": 3
   },
   "file_extension": ".py",
   "mimetype": "text/x-python",
   "name": "python",
   "nbconvert_exporter": "python",
   "pygments_lexer": "ipython3",
   "version": "3.7.4"
  }
 },
 "nbformat": 4,
 "nbformat_minor": 4
}
