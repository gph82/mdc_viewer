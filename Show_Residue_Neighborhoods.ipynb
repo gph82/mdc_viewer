{
 "cells": [
  {
   "cell_type": "markdown",
   "metadata": {},
   "source": [
    "# INSPECT RESIDUE NEIGHBORS INTERACTIVELY\n",
    " \n",
    "1. **Start**: Press the \">| Run\" button above, the data and the GUI will load\n",
    "   * Takes some time to load, but only initially\n",
    "\n",
    " \n",
    "2. **Residue Selection**: Pick form the list or enter manually\n",
    "   * Expressions like \"R131,L393-L394\" are allowed\n",
    "   * Hit *preview* to see what your selection finds\n",
    " \n",
    " \n",
    "3. **General options**: Can be ignored in the first run and used afterwards.\n",
    "   * The plots will update automatically when you the change then.\n",
    "   * The *Per-Figure-Options* offers more control but crowds the output a bit\n",
    " \n",
    " \n",
    "4. **Output**: Hit the green button and bar-plots representing the residue neighborhoods will appear. \n",
    "    * Control the distance cutoff of the neighborhood with the slider bar\n",
    " \n",
    " \n",
    "5. **Help** Hover with your mouse over the options and find out more\n",
    " \n",
    " \n",
    "Please keep in mind this is experimental"
   ]
  },
  {
   "cell_type": "code",
   "execution_count": null,
   "metadata": {
    "scrolled": false
   },
   "outputs": [],
   "source": [
    "from mdcv import show\n",
    "show()"
   ]
  }
 ],
 "metadata": {
  "kernelspec": {
   "display_name": "Python 3",
   "language": "python",
   "name": "python3"
  },
  "language_info": {
   "codemirror_mode": {
    "name": "ipython",
    "version": 3
   },
   "file_extension": ".py",
   "mimetype": "text/x-python",
   "name": "python",
   "nbconvert_exporter": "python",
   "pygments_lexer": "ipython3",
   "version": "3.7.7"
  }
 },
 "nbformat": 4,
 "nbformat_minor": 4
}
