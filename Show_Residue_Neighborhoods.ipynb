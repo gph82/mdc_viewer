{
 "cells": [
  {
   "cell_type": "markdown",
   "metadata": {},
   "source": [
    "# INSPECT RESIDUE NEIGHBORS INTERACTIVELY\n",
    " \n",
    "* Press the \">|  Run\" button above \n",
    " \n",
    " \n",
    "* The data and the GUI take a some time to load, but only initially\n",
    " \n",
    " \n",
    "* Select the residues to show, expressions like \"R131,L393-L394\" are allowed\n",
    " \n",
    " \n",
    "* Check the **Plot options** for fine tuning. \n",
    " * The plots will update automatically when you the change then.\n",
    " \n",
    " \n",
    "* Control the distance cutoff of the neighborhood with the slider\n",
    "\n",
    "\n",
    "* Hoover with your mouse over the options to find out more\n",
    " \n",
    " \n",
    "* This is still experimental"
   ]
  },
  {
   "cell_type": "code",
   "execution_count": 14,
   "metadata": {
    "scrolled": false
   },
   "outputs": [
    {
     "name": "stdout",
     "output_type": "stream",
     "text": [
      "reloaded!!!!\n"
     ]
    },
    {
     "data": {
      "application/vnd.jupyter.widget-view+json": {
       "model_id": "07ec3d6ce15145d8b9f3b004f3179eea",
       "version_major": 2,
       "version_minor": 0
      },
      "text/plain": [
       "HBox(children=(FloatProgress(value=0.0, description='loading data', max=1.0, style=ProgressStyle(description_w…"
      ]
     },
     "metadata": {},
     "output_type": "display_data"
    },
    {
     "name": "stdout",
     "output_type": "stream",
     "text": [
      "\n"
     ]
    },
    {
     "data": {
      "application/vnd.jupyter.widget-view+json": {
       "model_id": "eb2ef711f18c4d43a24a5fdeb090a164",
       "version_major": 2,
       "version_minor": 0
      },
      "text/plain": [
       "VBox(children=(Accordion(children=(VBox(children=(HBox(children=(Text(value='R131,GDP', continuous_update=Fals…"
      ]
     },
     "metadata": {},
     "output_type": "display_data"
    },
    {
     "ename": "AssertionError",
     "evalue": "\nArrays are not equal\n\nMismatched elements: 1 / 1 (100%)\nMax absolute difference: 464\nMax relative difference: 0.79862306\n x: array([117])\n y: array([581])",
     "output_type": "error",
     "traceback": [
      "\u001b[0;31m---------------------------------------------------------------------------\u001b[0m",
      "\u001b[0;31mKeyError\u001b[0m                                  Traceback (most recent call last)",
      "\u001b[0;32m~/Programs/mdc_viewer_2/mdc_viewer/mdcv.py\u001b[0m in \u001b[0;36mrun\u001b[0;34m(res_idxs, argmap)\u001b[0m\n\u001b[1;32m    365\u001b[0m                     \u001b[0;32mtry\u001b[0m\u001b[0;34m:\u001b[0m\u001b[0;34m\u001b[0m\u001b[0;34m\u001b[0m\u001b[0m\n\u001b[0;32m--> 366\u001b[0;31m                         \u001b[0mCGs\u001b[0m\u001b[0;34m[\u001b[0m\u001b[0mrr\u001b[0m\u001b[0;34m]\u001b[0m\u001b[0;34m[\u001b[0m\u001b[0mkey\u001b[0m\u001b[0;34m]\u001b[0m\u001b[0;34m\u001b[0m\u001b[0;34m\u001b[0m\u001b[0m\n\u001b[0m\u001b[1;32m    367\u001b[0m                     \u001b[0;32mexcept\u001b[0m \u001b[0mKeyError\u001b[0m\u001b[0;34m:\u001b[0m\u001b[0;34m\u001b[0m\u001b[0;34m\u001b[0m\u001b[0m\n",
      "\u001b[0;31mKeyError\u001b[0m: 'B'",
      "\nDuring handling of the above exception, another exception occurred:\n",
      "\u001b[0;31mAssertionError\u001b[0m                            Traceback (most recent call last)",
      "\u001b[0;32m~/Programs/mdc_viewer_2/mdc_viewer/mdcv.py\u001b[0m in \u001b[0;36m<lambda>\u001b[0;34m(out_dict)\u001b[0m\n\u001b[1;32m    414\u001b[0m                                                 )[0]\n\u001b[1;32m    415\u001b[0m \u001b[0;34m\u001b[0m\u001b[0m\n\u001b[0;32m--> 416\u001b[0;31m     \u001b[0mrun_lambda\u001b[0m \u001b[0;34m=\u001b[0m \u001b[0;32mlambda\u001b[0m \u001b[0mout_dict\u001b[0m \u001b[0;34m:\u001b[0m \u001b[0mrun\u001b[0m\u001b[0;34m(\u001b[0m\u001b[0mres_idxs\u001b[0m\u001b[0;34m,\u001b[0m \u001b[0margmap\u001b[0m\u001b[0;34m)\u001b[0m\u001b[0;34m\u001b[0m\u001b[0;34m\u001b[0m\u001b[0m\n\u001b[0m\u001b[1;32m    417\u001b[0m \u001b[0;34m\u001b[0m\u001b[0m\n\u001b[1;32m    418\u001b[0m     \u001b[0mFreqSlider\u001b[0m\u001b[0;34m.\u001b[0m\u001b[0mobserve\u001b[0m\u001b[0;34m(\u001b[0m\u001b[0;32mlambda\u001b[0m \u001b[0m_\u001b[0m\u001b[0;34m:\u001b[0m \u001b[0mrun_lambda\u001b[0m\u001b[0;34m(\u001b[0m\u001b[0;32mNone\u001b[0m\u001b[0;34m)\u001b[0m\u001b[0;34m,\u001b[0m \u001b[0mnames\u001b[0m\u001b[0;34m=\u001b[0m\u001b[0;34m\"value\"\u001b[0m\u001b[0;34m)\u001b[0m\u001b[0;34m\u001b[0m\u001b[0;34m\u001b[0m\u001b[0m\n",
      "\u001b[0;32m~/Programs/mdc_viewer_2/mdc_viewer/mdcv.py\u001b[0m in \u001b[0;36mrun\u001b[0;34m(res_idxs, argmap)\u001b[0m\n\u001b[1;32m    366\u001b[0m                         \u001b[0mCGs\u001b[0m\u001b[0;34m[\u001b[0m\u001b[0mrr\u001b[0m\u001b[0;34m]\u001b[0m\u001b[0;34m[\u001b[0m\u001b[0mkey\u001b[0m\u001b[0;34m]\u001b[0m\u001b[0;34m\u001b[0m\u001b[0;34m\u001b[0m\u001b[0m\n\u001b[1;32m    367\u001b[0m                     \u001b[0;32mexcept\u001b[0m \u001b[0mKeyError\u001b[0m\u001b[0;34m:\u001b[0m\u001b[0;34m\u001b[0m\u001b[0;34m\u001b[0m\u001b[0m\n\u001b[0;32m--> 368\u001b[0;31m                         \u001b[0mCGs\u001b[0m\u001b[0;34m[\u001b[0m\u001b[0mrr\u001b[0m\u001b[0;34m]\u001b[0m\u001b[0;34m[\u001b[0m\u001b[0mkey\u001b[0m\u001b[0;34m]\u001b[0m \u001b[0;34m=\u001b[0m \u001b[0mmdcv_io\u001b[0m\u001b[0;34m.\u001b[0m\u001b[0mCGdict2CG\u001b[0m\u001b[0;34m(\u001b[0m\u001b[0miarch\u001b[0m\u001b[0;34m[\u001b[0m\u001b[0mrr\u001b[0m\u001b[0;34m]\u001b[0m\u001b[0;34m,\u001b[0m \u001b[0mtop\u001b[0m\u001b[0;34m=\u001b[0m\u001b[0mtop\u001b[0m\u001b[0;34m)\u001b[0m\u001b[0;34m\u001b[0m\u001b[0;34m\u001b[0m\u001b[0m\n\u001b[0m\u001b[1;32m    369\u001b[0m                 \u001b[0;32melse\u001b[0m\u001b[0;34m:\u001b[0m\u001b[0;34m\u001b[0m\u001b[0;34m\u001b[0m\u001b[0m\n\u001b[1;32m    370\u001b[0m                     \u001b[0;32mwith\u001b[0m \u001b[0mErrors\u001b[0m\u001b[0;34m:\u001b[0m\u001b[0;34m\u001b[0m\u001b[0;34m\u001b[0m\u001b[0m\n",
      "\u001b[0;32m~/Programs/mdc_viewer_2/mdc_viewer/mdcv_io.py\u001b[0m in \u001b[0;36mCGdict2CG\u001b[0;34m(filename, **cp_kwargs)\u001b[0m\n\u001b[1;32m    147\u001b[0m                                  \u001b[0;34m**\u001b[0m\u001b[0;34m{\u001b[0m\u001b[0mkey\u001b[0m\u001b[0;34m:\u001b[0m \u001b[0mcp\u001b[0m\u001b[0;34m[\u001b[0m\u001b[0mval\u001b[0m\u001b[0;34m]\u001b[0m \u001b[0;32mfor\u001b[0m \u001b[0mkey\u001b[0m\u001b[0;34m,\u001b[0m \u001b[0mval\u001b[0m \u001b[0;32min\u001b[0m \u001b[0mmapping\u001b[0m\u001b[0;34m.\u001b[0m\u001b[0mitems\u001b[0m\u001b[0;34m(\u001b[0m\u001b[0;34m)\u001b[0m \u001b[0;32mif\u001b[0m \u001b[0mmapping\u001b[0m\u001b[0;34m[\u001b[0m\u001b[0mkey\u001b[0m\u001b[0;34m]\u001b[0m \u001b[0;32mnot\u001b[0m \u001b[0;32min\u001b[0m \u001b[0mcp_args\u001b[0m\u001b[0;34m}\u001b[0m\u001b[0;34m,\u001b[0m\u001b[0;34m\u001b[0m\u001b[0;34m\u001b[0m\u001b[0m\n\u001b[1;32m    148\u001b[0m                                  \u001b[0;34m**\u001b[0m\u001b[0mcp_kwargs\u001b[0m\u001b[0;34m,\u001b[0m\u001b[0;34m\u001b[0m\u001b[0;34m\u001b[0m\u001b[0m\n\u001b[0;32m--> 149\u001b[0;31m                                  ) for cp in a[\"serialized_CPs\"]]\n\u001b[0m\u001b[1;32m    150\u001b[0m \u001b[0;34m\u001b[0m\u001b[0m\n\u001b[1;32m    151\u001b[0m     \u001b[0;32mreturn\u001b[0m \u001b[0mmdciao\u001b[0m\u001b[0;34m.\u001b[0m\u001b[0mcontacts\u001b[0m\u001b[0;34m.\u001b[0m\u001b[0mContactGroup\u001b[0m\u001b[0;34m(\u001b[0m\u001b[0mcontact_pairs\u001b[0m\u001b[0;34m,\u001b[0m \u001b[0;34m**\u001b[0m\u001b[0;34m{\u001b[0m\u001b[0mkey\u001b[0m\u001b[0;34m:\u001b[0m\u001b[0mval\u001b[0m \u001b[0;32mfor\u001b[0m \u001b[0mkey\u001b[0m\u001b[0;34m,\u001b[0m\u001b[0mval\u001b[0m \u001b[0;32min\u001b[0m \u001b[0ma\u001b[0m\u001b[0;34m.\u001b[0m\u001b[0mitems\u001b[0m\u001b[0;34m(\u001b[0m\u001b[0;34m)\u001b[0m \u001b[0;32mif\u001b[0m \u001b[0mkey\u001b[0m\u001b[0;34m!=\u001b[0m\u001b[0;34m\"serialized_CPs\"\u001b[0m\u001b[0;34m}\u001b[0m\u001b[0;34m)\u001b[0m\u001b[0;34m\u001b[0m\u001b[0;34m\u001b[0m\u001b[0m\n",
      "\u001b[0;32m~/Programs/mdc_viewer_2/mdc_viewer/mdcv_io.py\u001b[0m in \u001b[0;36m<listcomp>\u001b[0;34m(.0)\u001b[0m\n\u001b[1;32m    147\u001b[0m                                  \u001b[0;34m**\u001b[0m\u001b[0;34m{\u001b[0m\u001b[0mkey\u001b[0m\u001b[0;34m:\u001b[0m \u001b[0mcp\u001b[0m\u001b[0;34m[\u001b[0m\u001b[0mval\u001b[0m\u001b[0;34m]\u001b[0m \u001b[0;32mfor\u001b[0m \u001b[0mkey\u001b[0m\u001b[0;34m,\u001b[0m \u001b[0mval\u001b[0m \u001b[0;32min\u001b[0m \u001b[0mmapping\u001b[0m\u001b[0;34m.\u001b[0m\u001b[0mitems\u001b[0m\u001b[0;34m(\u001b[0m\u001b[0;34m)\u001b[0m \u001b[0;32mif\u001b[0m \u001b[0mmapping\u001b[0m\u001b[0;34m[\u001b[0m\u001b[0mkey\u001b[0m\u001b[0;34m]\u001b[0m \u001b[0;32mnot\u001b[0m \u001b[0;32min\u001b[0m \u001b[0mcp_args\u001b[0m\u001b[0;34m}\u001b[0m\u001b[0;34m,\u001b[0m\u001b[0;34m\u001b[0m\u001b[0;34m\u001b[0m\u001b[0m\n\u001b[1;32m    148\u001b[0m                                  \u001b[0;34m**\u001b[0m\u001b[0mcp_kwargs\u001b[0m\u001b[0;34m,\u001b[0m\u001b[0;34m\u001b[0m\u001b[0;34m\u001b[0m\u001b[0m\n\u001b[0;32m--> 149\u001b[0;31m                                  ) for cp in a[\"serialized_CPs\"]]\n\u001b[0m\u001b[1;32m    150\u001b[0m \u001b[0;34m\u001b[0m\u001b[0m\n\u001b[1;32m    151\u001b[0m     \u001b[0;32mreturn\u001b[0m \u001b[0mmdciao\u001b[0m\u001b[0;34m.\u001b[0m\u001b[0mcontacts\u001b[0m\u001b[0;34m.\u001b[0m\u001b[0mContactGroup\u001b[0m\u001b[0;34m(\u001b[0m\u001b[0mcontact_pairs\u001b[0m\u001b[0;34m,\u001b[0m \u001b[0;34m**\u001b[0m\u001b[0;34m{\u001b[0m\u001b[0mkey\u001b[0m\u001b[0;34m:\u001b[0m\u001b[0mval\u001b[0m \u001b[0;32mfor\u001b[0m \u001b[0mkey\u001b[0m\u001b[0;34m,\u001b[0m\u001b[0mval\u001b[0m \u001b[0;32min\u001b[0m \u001b[0ma\u001b[0m\u001b[0;34m.\u001b[0m\u001b[0mitems\u001b[0m\u001b[0;34m(\u001b[0m\u001b[0;34m)\u001b[0m \u001b[0;32mif\u001b[0m \u001b[0mkey\u001b[0m\u001b[0;34m!=\u001b[0m\u001b[0;34m\"serialized_CPs\"\u001b[0m\u001b[0;34m}\u001b[0m\u001b[0;34m)\u001b[0m\u001b[0;34m\u001b[0m\u001b[0;34m\u001b[0m\u001b[0m\n",
      "\u001b[0;32m~/Programs/mdciao/mdciao/contacts/contacts.py\u001b[0m in \u001b[0;36m__init__\u001b[0;34m(self, res_idxs_pair, ctc_trajs, time_trajs, top, trajs, atom_pair_trajs, fragment_idxs, fragment_names, fragment_colors, anchor_residue_idx, consensus_labels)\u001b[0m\n\u001b[1;32m   1032\u001b[0m \u001b[0;34m\u001b[0m\u001b[0m\n\u001b[1;32m   1033\u001b[0m         \u001b[0;31m# Initialize the attribute holding classes\u001b[0m\u001b[0;34m\u001b[0m\u001b[0;34m\u001b[0m\u001b[0;34m\u001b[0m\u001b[0m\n\u001b[0;32m-> 1034\u001b[0;31m         \u001b[0mself\u001b[0m\u001b[0;34m.\u001b[0m\u001b[0m_attribute_trajs\u001b[0m \u001b[0;34m=\u001b[0m \u001b[0m_TimeTraces\u001b[0m\u001b[0;34m(\u001b[0m\u001b[0mctc_trajs\u001b[0m\u001b[0;34m,\u001b[0m \u001b[0mtime_trajs\u001b[0m\u001b[0;34m,\u001b[0m \u001b[0mtrajs\u001b[0m\u001b[0;34m,\u001b[0m \u001b[0matom_pair_trajs\u001b[0m\u001b[0;34m)\u001b[0m\u001b[0;34m\u001b[0m\u001b[0;34m\u001b[0m\u001b[0m\n\u001b[0m\u001b[1;32m   1035\u001b[0m         self._attribute_n = _NumberOfthings(len(self._attribute_trajs.ctc_trajs),\n\u001b[1;32m   1036\u001b[0m                                             [len(itraj) for itraj in self._attribute_trajs.ctc_trajs])\n",
      "\u001b[0;32m~/Programs/mdciao/mdciao/contacts/contacts.py\u001b[0m in \u001b[0;36m__init__\u001b[0;34m(self, ctc_trajs, time_trajs, trajs, atom_pair_trajs)\u001b[0m\n\u001b[1;32m    363\u001b[0m         \u001b[0mself\u001b[0m\u001b[0;34m.\u001b[0m\u001b[0m_atom_pair_trajs\u001b[0m \u001b[0;34m=\u001b[0m \u001b[0matom_pair_trajs\u001b[0m\u001b[0;34m\u001b[0m\u001b[0;34m\u001b[0m\u001b[0m\n\u001b[1;32m    364\u001b[0m         _np.testing.assert_array_equal([len(itraj) for itraj in ctc_trajs],\n\u001b[0;32m--> 365\u001b[0;31m                                        [len(itime) for itime in time_trajs])\n\u001b[0m\u001b[1;32m    366\u001b[0m         \u001b[0;32mif\u001b[0m \u001b[0matom_pair_trajs\u001b[0m \u001b[0;32mis\u001b[0m \u001b[0;32mnot\u001b[0m \u001b[0;32mNone\u001b[0m\u001b[0;34m:\u001b[0m\u001b[0;34m\u001b[0m\u001b[0;34m\u001b[0m\u001b[0m\n\u001b[1;32m    367\u001b[0m             \u001b[0;32massert\u001b[0m \u001b[0mlen\u001b[0m\u001b[0;34m(\u001b[0m\u001b[0matom_pair_trajs\u001b[0m\u001b[0;34m)\u001b[0m\u001b[0;34m==\u001b[0m\u001b[0mlen\u001b[0m\u001b[0;34m(\u001b[0m\u001b[0mctc_trajs\u001b[0m\u001b[0;34m)\u001b[0m\u001b[0;34m\u001b[0m\u001b[0;34m\u001b[0m\u001b[0m\n",
      "\u001b[0;32m~/miniconda3/lib/python3.7/site-packages/numpy/testing/_private/utils.py\u001b[0m in \u001b[0;36massert_array_equal\u001b[0;34m(x, y, err_msg, verbose)\u001b[0m\n\u001b[1;32m    934\u001b[0m     \u001b[0m__tracebackhide__\u001b[0m \u001b[0;34m=\u001b[0m \u001b[0;32mTrue\u001b[0m  \u001b[0;31m# Hide traceback for py.test\u001b[0m\u001b[0;34m\u001b[0m\u001b[0;34m\u001b[0m\u001b[0m\n\u001b[1;32m    935\u001b[0m     assert_array_compare(operator.__eq__, x, y, err_msg=err_msg,\n\u001b[0;32m--> 936\u001b[0;31m                          verbose=verbose, header='Arrays are not equal')\n\u001b[0m\u001b[1;32m    937\u001b[0m \u001b[0;34m\u001b[0m\u001b[0m\n\u001b[1;32m    938\u001b[0m \u001b[0;34m\u001b[0m\u001b[0m\n",
      "\u001b[0;32m~/miniconda3/lib/python3.7/site-packages/numpy/testing/_private/utils.py\u001b[0m in \u001b[0;36massert_array_compare\u001b[0;34m(comparison, x, y, err_msg, verbose, header, precision, equal_nan, equal_inf)\u001b[0m\n\u001b[1;32m    844\u001b[0m                                 \u001b[0mverbose\u001b[0m\u001b[0;34m=\u001b[0m\u001b[0mverbose\u001b[0m\u001b[0;34m,\u001b[0m \u001b[0mheader\u001b[0m\u001b[0;34m=\u001b[0m\u001b[0mheader\u001b[0m\u001b[0;34m,\u001b[0m\u001b[0;34m\u001b[0m\u001b[0;34m\u001b[0m\u001b[0m\n\u001b[1;32m    845\u001b[0m                                 names=('x', 'y'), precision=precision)\n\u001b[0;32m--> 846\u001b[0;31m             \u001b[0;32mraise\u001b[0m \u001b[0mAssertionError\u001b[0m\u001b[0;34m(\u001b[0m\u001b[0mmsg\u001b[0m\u001b[0;34m)\u001b[0m\u001b[0;34m\u001b[0m\u001b[0;34m\u001b[0m\u001b[0m\n\u001b[0m\u001b[1;32m    847\u001b[0m     \u001b[0;32mexcept\u001b[0m \u001b[0mValueError\u001b[0m\u001b[0;34m:\u001b[0m\u001b[0;34m\u001b[0m\u001b[0;34m\u001b[0m\u001b[0m\n\u001b[1;32m    848\u001b[0m         \u001b[0;32mimport\u001b[0m \u001b[0mtraceback\u001b[0m\u001b[0;34m\u001b[0m\u001b[0;34m\u001b[0m\u001b[0m\n",
      "\u001b[0;31mAssertionError\u001b[0m: \nArrays are not equal\n\nMismatched elements: 1 / 1 (100%)\nMax absolute difference: 464\nMax relative difference: 0.79862306\n x: array([117])\n y: array([581])"
     ]
    }
   ],
   "source": [
    "from importlib import reload\n",
    "reload(mdcv_io)\n",
    "import numpy as np\n",
    "import mdcv\n",
    "mdcv.show()"
   ]
  },
  {
   "cell_type": "code",
   "execution_count": 10,
   "metadata": {},
   "outputs": [
    {
     "name": "stdout",
     "output_type": "stream",
     "text": [
      "reloaded!!!!\n"
     ]
    },
    {
     "data": {
      "application/vnd.jupyter.widget-view+json": {
       "model_id": "0c233e77b57f4e7f99c8704ac5734240",
       "version_major": 2,
       "version_minor": 0
      },
      "text/plain": [
       "HBox(children=(FloatProgress(value=0.0, description='loading data', max=1.0, style=ProgressStyle(description_w…"
      ]
     },
     "metadata": {},
     "output_type": "display_data"
    },
    {
     "name": "stdout",
     "output_type": "stream",
     "text": [
      "\n"
     ]
    }
   ],
   "source": [
    "import mdcv_io\n",
    "from importlib import reload\n",
    "reload(mdcv_io)\n",
    "import numpy as np\n",
    "data = mdcv_io.load_data(\n",
    "    #decompress_here=True, \n",
    "                         restrict_to_residxs=np.arange(10))"
   ]
  },
  {
   "cell_type": "code",
   "execution_count": 3,
   "metadata": {
    "scrolled": false
   },
   "outputs": [],
   "source": [
    "def stride_dict_of_CGdicts(dict_of_CGdicts,stride=1):\n",
    "    to_strid = ['time_traces.atom_pair_trajs',\n",
    "                 'time_traces.ctc_trajs', \n",
    "                 'time_traces.time_trajs']\n",
    "    from copy import deepcopy\n",
    "    out_dict = deepcopy(dict_of_CGdicts)\n",
    "    for CGdict in out_dict.values():\n",
    "        for cp in CGdict[\"serialized_CPs\"]:\n",
    "            for attr in to_strid:\n",
    "                #print(\"striding!\")\n",
    "                cp[attr] = [tt[::stride] for tt in cp[attr]]\n",
    "    return out_dict\n",
    "stridedA = stride_dict_of_CGdicts(data[\"A\"],stride=10)"
   ]
  },
  {
   "cell_type": "code",
   "execution_count": 4,
   "metadata": {},
   "outputs": [
    {
     "data": {
      "text/plain": [
       "([array([1328., 1698., 1022., 1368.,  989., 1311., 1545.,  957.,  359.,\n",
       "         2032., 1724., 2131., 1962., 1835., 1407.,   43., 1535.,  397.,\n",
       "         1857.,   40., 1087.,  116., 1782., 1652.,  800.,  416.,  303.,\n",
       "         1360., 1745.,  799., 1040., 2028., 1423.,  582.,  813.,  814.,\n",
       "          508., 1076.,   77., 1659., 1956., 2134.,  514.,  297., 1848.,\n",
       "         1563.,  503., 1770., 1321.,  408., 1927., 1826., 1377., 1329.,\n",
       "         1113.,  606.,  808., 2147.,  141.,  168., 1833., 1816.,  793.,\n",
       "          797., 1876., 1203., 1452.,  331.,  964., 1502., 2170.,  501.,\n",
       "          900.,  625., 2144.,  656., 1494.,  292., 1455., 2000., 1781.,\n",
       "          271.,  857., 1366.,  108., 1443., 1088., 1887.,  631.,  366.,\n",
       "         1845.,  719., 1706.,  360.,  282., 1719., 2150.,  545.,  403.,\n",
       "         1324., 2006., 1436.,  352.,  179., 1296.,  968., 2174., 1461.,\n",
       "          770., 1630., 1145., 1699.,  780., 1861., 1323., 1471., 1568.,\n",
       "          476.,  646.,  748., 2030.,  329.,  583., 1615.,  538.,  530.,\n",
       "         1626., 1646.,  767.,  296.,  537.,  350., 1691., 1470., 1142.,\n",
       "          856., 1656.,  903., 1670., 1878.,  833., 1875.,   54., 1450.,\n",
       "          502., 1910.,  364., 1410., 2162., 1485., 1314.,  819., 1859.,\n",
       "         1467.,  768., 1016.,  281.,  752., 1168.,  569., 1269.,  493.,\n",
       "         1100.,  786.,  357.,  299., 1804.,  546.,  531.,  441.,  174.,\n",
       "         1194.,   22.,  378., 1143., 1013.,    4., 2135.,   65., 1830.,\n",
       "         1864.,  130., 1521., 1612.,  344., 2037.,  573., 1758.,  506.,\n",
       "          894.,  978.,  181.,  744.,  414., 1414.,   80.,  907., 1224.,\n",
       "         1721., 1271.,  650., 1900., 1643., 1211.,  356.,   70.,  949.,\n",
       "         1165.,  205.,  954., 1102., 1072., 2101., 2106., 1083.,  578.,\n",
       "         2138., 1276.])],\n",
       " array([[1328., 1415.,   71., ..., 1214., 2018.,  429.]]))"
      ]
     },
     "execution_count": 4,
     "metadata": {},
     "output_type": "execute_result"
    }
   ],
   "source": [
    "stridedA[0][\"serialized_CPs\"][0][\"time_traces.time_trajs\"],data[\"A\"][0][\"serialized_CPs\"][0][\"time_traces.time_trajs\"]"
   ]
  },
  {
   "cell_type": "code",
   "execution_count": 6,
   "metadata": {},
   "outputs": [],
   "source": [
    "reload(mdcv_io)\n",
    "dict_of_CGs = {key: mdcv_io.CGdict2CG(val) for key, val in stridedA.items()}"
   ]
  },
  {
   "cell_type": "code",
   "execution_count": 7,
   "metadata": {},
   "outputs": [
    {
     "name": "stdout",
     "output_type": "stream",
     "text": [
      "outest_loop 0 <mdciao.contacts.contacts.ContactGroup object at 0x7fa06db15210>\n",
      "dict_keys(['list_of_contact_objects', 'interface_residxs', 'name'])\n"
     ]
    },
    {
     "ename": "KeyError",
     "evalue": "'serialized_CPs'",
     "output_type": "error",
     "traceback": [
      "\u001b[0;31m---------------------------------------------------------------------------\u001b[0m",
      "\u001b[0;31mKeyError\u001b[0m                                  Traceback (most recent call last)",
      "\u001b[0;32m<ipython-input-7-5438a415e17d>\u001b[0m in \u001b[0;36m<module>\u001b[0;34m\u001b[0m\n\u001b[1;32m      5\u001b[0m         mdcv_io.dict_of_CGs_2_hdf5(f, dict_of_CGs, \n\u001b[1;32m      6\u001b[0m                                   \u001b[0;31m# compress=True\u001b[0m\u001b[0;34m\u001b[0m\u001b[0;34m\u001b[0m\u001b[0;34m\u001b[0m\u001b[0m\n\u001b[0;32m----> 7\u001b[0;31m                                    \u001b[0mexclude\u001b[0m\u001b[0;34m=\u001b[0m\u001b[0;34m\"topology\"\u001b[0m\u001b[0;34m\u001b[0m\u001b[0;34m\u001b[0m\u001b[0m\n\u001b[0m\u001b[1;32m      8\u001b[0m                                   )\n",
      "\u001b[0;32m~/Programs/mdc_viewer/mdcv_io.py\u001b[0m in \u001b[0;36mdict_of_CGs_2_hdf5\u001b[0;34m(f, idict, compress, exclude)\u001b[0m\n\u001b[1;32m    156\u001b[0m             \u001b[0mprint\u001b[0m\u001b[0;34m(\u001b[0m\u001b[0miarch\u001b[0m\u001b[0;34m.\u001b[0m\u001b[0mkeys\u001b[0m\u001b[0;34m(\u001b[0m\u001b[0;34m)\u001b[0m\u001b[0;34m)\u001b[0m\u001b[0;34m\u001b[0m\u001b[0;34m\u001b[0m\u001b[0m\n\u001b[1;32m    157\u001b[0m             \u001b[0;31m# print(key, len(iarch[\"serialized_CPs\"]))\u001b[0m\u001b[0;34m\u001b[0m\u001b[0;34m\u001b[0m\u001b[0;34m\u001b[0m\u001b[0m\n\u001b[0;32m--> 158\u001b[0;31m             \u001b[0;32mfor\u001b[0m \u001b[0mii\u001b[0m\u001b[0;34m,\u001b[0m \u001b[0mcp\u001b[0m \u001b[0;32min\u001b[0m \u001b[0menumerate\u001b[0m\u001b[0;34m(\u001b[0m\u001b[0miarch\u001b[0m\u001b[0;34m[\u001b[0m\u001b[0;34m\"serialized_CPs\"\u001b[0m\u001b[0;34m]\u001b[0m\u001b[0;34m)\u001b[0m\u001b[0;34m:\u001b[0m\u001b[0;34m\u001b[0m\u001b[0;34m\u001b[0m\u001b[0m\n\u001b[0m\u001b[1;32m    159\u001b[0m                 \u001b[0mh\u001b[0m \u001b[0;34m=\u001b[0m \u001b[0mg\u001b[0m\u001b[0;34m.\u001b[0m\u001b[0mcreate_group\u001b[0m\u001b[0;34m(\u001b[0m\u001b[0mstr\u001b[0m\u001b[0;34m(\u001b[0m\u001b[0mii\u001b[0m\u001b[0;34m)\u001b[0m\u001b[0;34m)\u001b[0m\u001b[0;34m\u001b[0m\u001b[0;34m\u001b[0m\u001b[0m\n\u001b[1;32m    160\u001b[0m                 \u001b[0;32mfor\u001b[0m \u001b[0mkey2\u001b[0m\u001b[0;34m,\u001b[0m \u001b[0mval2\u001b[0m \u001b[0;32min\u001b[0m \u001b[0mcp\u001b[0m\u001b[0;34m.\u001b[0m\u001b[0mitems\u001b[0m\u001b[0;34m(\u001b[0m\u001b[0;34m)\u001b[0m\u001b[0;34m:\u001b[0m\u001b[0;34m\u001b[0m\u001b[0;34m\u001b[0m\u001b[0m\n",
      "\u001b[0;31mKeyError\u001b[0m: 'serialized_CPs'"
     ]
    }
   ],
   "source": [
    "reload(mdcv_io)\n",
    "import h5py\n",
    "%rm \"A.stride.5.zip.hdf5\"\n",
    "with h5py.File(\"A.stride.5.zip.hdf5\",\"a\") as f:\n",
    "        mdcv_io.dict_of_CGs_2_hdf5(f, dict_of_CGs, \n",
    "                                  # compress=True\n",
    "                                   exclude=\"topology\"\n",
    "                                  )"
   ]
  },
  {
   "cell_type": "code",
   "execution_count": null,
   "metadata": {},
   "outputs": [],
   "source": [
    "import h5py\n",
    "reload(mdcv_io)\n",
    "for key,N in data.items():\n",
    "    strided_copy = stride_arch(N,stride=5)\n",
    "    CG_dict = {key: mdcv_io.archive2ContactGroup(val) for key, val in strided_copy.items()}\n",
    "    print(key)\n",
    "    #mdcv_io.nhood_dict_2_hd5(f, CG_dict, compress=True)\n",
    "    break\n"
   ]
  },
  {
   "cell_type": "code",
   "execution_count": null,
   "metadata": {
    "scrolled": false
   },
   "outputs": [],
   "source": [
    "from mdcv import show\n",
    "show()"
   ]
  },
  {
   "cell_type": "code",
   "execution_count": null,
   "metadata": {},
   "outputs": [],
   "source": []
  }
 ],
 "metadata": {
  "kernelspec": {
   "display_name": "Python 3",
   "language": "python",
   "name": "python3"
  },
  "language_info": {
   "codemirror_mode": {
    "name": "ipython",
    "version": 3
   },
   "file_extension": ".py",
   "mimetype": "text/x-python",
   "name": "python",
   "nbconvert_exporter": "python",
   "pygments_lexer": "ipython3",
   "version": "3.7.4"
  }
 },
 "nbformat": 4,
 "nbformat_minor": 4
}
