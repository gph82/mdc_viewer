{
 "cells": [
  {
   "cell_type": "code",
   "execution_count": 1,
   "metadata": {},
   "outputs": [
    {
     "data": {
      "text/html": [
       "<script>\n",
       "    // AUTORUN ALL CELLS ON NOTEBOOK-LOAD!\n",
       "    require(\n",
       "        ['base/js/namespace', 'jquery'], \n",
       "        function(jupyter, $) {\n",
       "            $(jupyter.events).on(\"kernel_ready.Kernel\", function () {\n",
       "                console.log(\"Auto-running all cells-below...\");\n",
       "                jupyter.actions.call('jupyter-notebook:run-all-cells-below');\n",
       "                jupyter.actions.call('jupyter-notebook:save-notebook');\n",
       "            });\n",
       "        }\n",
       "    );\n",
       "</script>\n"
      ],
      "text/plain": [
       "<IPython.core.display.HTML object>"
      ]
     },
     "metadata": {},
     "output_type": "display_data"
    }
   ],
   "source": [
    "%%html\n",
    "<script>\n",
    "    // AUTORUN ALL CELLS ON NOTEBOOK-LOAD!\n",
    "    require(\n",
    "        ['base/js/namespace', 'jquery'], \n",
    "        function(jupyter, $) {\n",
    "            $(jupyter.events).on(\"kernel_ready.Kernel\", function () {\n",
    "                console.log(\"Auto-running all cells-below...\");\n",
    "                jupyter.actions.call('jupyter-notebook:run-all-cells-below');\n",
    "                jupyter.actions.call('jupyter-notebook:save-notebook');\n",
    "            });\n",
    "        }\n",
    "    );\n",
    "</script>"
   ]
  },
  {
   "cell_type": "markdown",
   "metadata": {},
   "source": [
    "# INSPECT RESIDUE NEIGHBORHOODS INTERACTIVELY\n",
    " \n",
    "1. **Load the GUI and the data**. This should happen automatically\n",
    "   * You should see a progress bar upon opening the notebook (keep scrolling down)\n",
    "   * If you don't see it, select the cell below and hit the \"> Run\" button above\n",
    "   * Loading takes some time, but only initially\n",
    "\n",
    " \n",
    "2. **Residue Selection**: Pick from the list or enter manually\n",
    "   * Expressions with ranges and wildcards are allowed, like:\n",
    "    - GLU*, R131,R385-L394\n",
    "   * Hit *preview* to see what your selection finds\n",
    " \n",
    " \n",
    "3. **General options**: Can be ignored in the first run and used afterwards.\n",
    "   * The plots will update automatically when you the change the general options.\n",
    "   * Toggle *Per-Figure-Options* to control each plot individually\n",
    "       * This crowds the output a bit\n",
    "       * The general options still have effect, so if you change those you'll loose individual changes         \n",
    " \n",
    " \n",
    "4. **Output**: Hit the green button and bar-plots representing the residue neighborhoods will appear. \n",
    "    * Control the distance cutoff of the neighborhood with the slider bar\n",
    "    * If your selection did not work, you will see text instead of figures\n",
    "\n",
    "\n",
    "5. **Save**: Save any figure by right-clicking on it\n",
    "    * For now you have to use your browsers's *Save Image As*-option\n",
    "    * A normal \"save\" button will be there in the next versions\n",
    " \n",
    "\n",
    "5. **Help**: Hover with your mouse over the options and find out more\n",
    " \n",
    " \n",
    "Please keep in mind this is experimental"
   ]
  },
  {
   "cell_type": "code",
   "execution_count": null,
   "metadata": {
    "scrolled": true
   },
   "outputs": [],
   "source": [
    "from mdcv import show\n",
    "show()"
   ]
  }
 ],
 "metadata": {
  "kernelspec": {
   "display_name": "Python 3",
   "language": "python",
   "name": "python3"
  },
  "language_info": {
   "codemirror_mode": {
    "name": "ipython",
    "version": 3
   },
   "file_extension": ".py",
   "mimetype": "text/x-python",
   "name": "python",
   "nbconvert_exporter": "python",
   "pygments_lexer": "ipython3",
   "version": "3.7.7"
  }
 },
 "nbformat": 4,
 "nbformat_minor": 4
}
